{
 "cells": [
  {
   "cell_type": "markdown",
   "metadata": {
    "id": "qUZ9H_V58Brb"
   },
   "source": [
    "\n",
    "**Question 1**\n",
    "\n",
    "Consider the following Python module:\n",
    "\n",
    "a = 0\n",
    "\n",
    "def b():\n",
    "    global a\n",
    "    a = c(a)\n",
    "\n",
    "def c(a):\n",
    "    return a + 2\n",
    "\n",
    "After importing the module into the interpreter, you execute:\n",
    "\n",
    ">>> b()\n",
    ">>> b()\n",
    ">>> b()\n",
    ">>> a\n",
    "?\n",
    "\n",
    "What value is displayed when the last expression (a) is evaluated? Explain your answer by indicating what happens in every executed statement.\n",
    "\n",
    "\n"
   ]
  },
  {
   "cell_type": "code",
   "execution_count": 199,
   "metadata": {
    "id": "Z-O-iNsU8OPz"
   },
   "outputs": [],
   "source": [
    "from moduleab import b,c"
   ]
  },
  {
   "cell_type": "code",
   "execution_count": 200,
   "metadata": {},
   "outputs": [],
   "source": [
    "b()"
   ]
  },
  {
   "cell_type": "code",
   "execution_count": 201,
   "metadata": {},
   "outputs": [],
   "source": [
    "b()"
   ]
  },
  {
   "cell_type": "code",
   "execution_count": 202,
   "metadata": {},
   "outputs": [],
   "source": [
    "b()"
   ]
  },
  {
   "cell_type": "code",
   "execution_count": 207,
   "metadata": {},
   "outputs": [
    {
     "data": {
      "text/plain": [
       "0"
      ]
     },
     "execution_count": 207,
     "metadata": {},
     "output_type": "execute_result"
    }
   ],
   "source": [
    "a"
   ]
  },
  {
   "cell_type": "markdown",
   "metadata": {},
   "source": [
    "<!-- The Value of \"a\" got increase by 2 everytime we called the def b(). the initial value of  'a' was 0 but there is one more a decleration of a as global whose value is being changed in the def b thats why when we call the a its value has been changed to 6.\n",
    "\n",
    "So when we call first time the def b() a is declared as global when the value of a is changed to a=a+2 a=0+2 a=2\n",
    "then we call the def b() again now the value of a is already 2. As per the statement now a=a+2 a=2+2 a=4\n",
    "and for the third time the value gets changed when we call def b() a = a+2  a= 4+2 a=6.\n",
    "\n",
    "thats why we get a=6 when we call a -->\n",
    "\n",
    "When the function in b() is called the value of the a is not changed as the b () does not return any value. The C() uses the value of a as the input and +2 in the value of a.\n",
    "\n",
    "But when we specifically calls the a from the module then the value is of the a is taken from the module it self which is not changes or has been set to.\n",
    "\n",
    " as a is the global variable then the value is stays put i,e a=0 as it was set in the module."
   ]
  },
  {
   "cell_type": "markdown",
   "metadata": {
    "id": "5-G2q7Wu8UgF"
   },
   "source": [
    "**Question 2**\n",
    "\n",
    "\n",
    "Function fileLength(), given to you, takes the name of a file as input and returns the length of the file:\n",
    "\n",
    ">>> fileLength('midterm.py')\n",
    "284\n",
    ">>> fileLength('idterm.py')\n",
    "Traceback (most recent call last):\n",
    "  File \"<pyshell#34>\", line 1, in <module>\n",
    "    fileLength('idterm.py')\n",
    "  File \"/Users/me/midterm.py\", line 3, in fileLength\n",
    "    infile = open(filename)\n",
    "FileNotFoundError: [Errno 2] No such file or directory: 'idterm.py'\n",
    "\n",
    "As shown above, if the file cannot be found by the interpreter or if it cannot be read as a text file, an exception will be raised. Modify function fileLength() so that a friendly message is printed instead:\n",
    "\n",
    ">>> fileLength('midterm.py')\n",
    "358\n",
    ">>> fileLength('idterm.py')\n",
    "File idterm.py not found.\n"
   ]
  },
  {
   "cell_type": "code",
   "execution_count": 109,
   "metadata": {},
   "outputs": [],
   "source": [
    "def file_length(file_name):\n",
    "    try:\n",
    "        file = open(file_name)\n",
    "        contents = file.read()\n",
    "        file.close()\n",
    "        print(len(contents))\n",
    "    except FileNotFoundError: \n",
    "        print(\" Please check the directory of the file or the name of the file\")"
   ]
  },
  {
   "cell_type": "code",
   "execution_count": 208,
   "metadata": {},
   "outputs": [
    {
     "name": "stdout",
     "output_type": "stream",
     "text": [
      " Please check the directory of the file or the name of the file\n"
     ]
    }
   ],
   "source": [
    "file_length(\"abc.txt\")"
   ]
  },
  {
   "cell_type": "markdown",
   "metadata": {
    "id": "W3KCwUzz8dWM"
   },
   "source": [
    "**Question 3**\n",
    "\n",
    "\n",
    "Write a class named Marsupial that can be used as shown below:\n",
    "\n",
    ">>> m = Marsupial()\n",
    ">>> m.put_in_pouch('doll')\n",
    ">>> m.put_in_pouch('firetruck')\n",
    ">>> m.put_in_pouch('kitten')\n",
    ">>> m.pouch_contents()\n",
    "['doll', 'firetruck', 'kitten']\n",
    "\n",
    "Now write a class named Kangaroo as a subclass of Marsupial that inherits all the attributes of Marsupial and also:\n",
    "\n",
    "a.\textends the Marsupial __init__ constructor to take, as input, the coordinates x and y of the Kangaroo object,\n",
    "\n",
    "b.\tsupports method jump that takes number values dx and dy as input and moves the kangaroo by dx units along the x-axis and by dy units along the y-axis, and\n",
    "\n",
    "c.\toverloads the __str__ operator so it behaves as shown below.\n",
    "\n",
    ">>> k = Kangaroo(0,0)\n",
    ">>> print(k)\n",
    "I am a Kangaroo located at coordinates (0,0)\n",
    ">>> k.put_in_pouch('doll')\n",
    ">>> k.put_in_pouch('firetruck')\n",
    ">>> k.put_in_pouch('kitten')\n",
    ">>> k.pouch_contents()\n",
    "['doll', 'firetruck', 'kitten']\n",
    ">>> k.jump(1,0)\n",
    ">>> k.jump(1,0)\n",
    ">>> k.jump(1,0)\n",
    ">>> print(k)\n",
    "I am a Kangaroo located at coordinates (3,0)\n"
   ]
  },
  {
   "cell_type": "code",
   "execution_count": 71,
   "metadata": {
    "id": "HYH91Mfn8lpf"
   },
   "outputs": [],
   "source": [
    "class Marsupial():\n",
    "    list1=[]\n",
    "#     def __init__(self,x,y):\n",
    "#         self.x1=x\n",
    "#         self.y1=y\n",
    "    def put_in_pouch(self,a):\n",
    "        \n",
    "        self.list1.append(a)\n",
    "    def pouch_contents(self):\n",
    "        print(self.list1)"
   ]
  },
  {
   "cell_type": "code",
   "execution_count": 72,
   "metadata": {},
   "outputs": [
    {
     "name": "stdout",
     "output_type": "stream",
     "text": [
      "['doll', 'firetruck', 'kitten']\n"
     ]
    }
   ],
   "source": [
    "m=Marsupial()\n",
    "m.put_in_pouch('doll')\n",
    "m.put_in_pouch('firetruck')\n",
    "m.put_in_pouch('kitten')\n",
    "m.pouch_contents()"
   ]
  },
  {
   "cell_type": "code",
   "execution_count": 73,
   "metadata": {},
   "outputs": [],
   "source": [
    "\n",
    "class Kangaroo(Marsupial):\n",
    "    def __init__(self,x,y):\n",
    "        self.x2=x\n",
    "        self.y2=y\n",
    "        \n",
    "    def __str__(self):\n",
    "        return ('I am a Kangaroo located at coordinates ({0},{1})'.format(self.x2,self.y2))\n",
    "    def jump(self,dx,dy):\n",
    "        self.x2 =self.x2 + dx\n",
    "        self.y2 = self.y2 + dy"
   ]
  },
  {
   "cell_type": "code",
   "execution_count": 74,
   "metadata": {},
   "outputs": [
    {
     "name": "stdout",
     "output_type": "stream",
     "text": [
      "I am a Kangaroo located at coordinates (0,0)\n",
      "['doll', 'firetruck', 'kitten', 'doll', 'firetruck', 'kitten']\n",
      "I am a Kangaroo located at coordinates (3,0)\n"
     ]
    }
   ],
   "source": [
    "k=Kangaroo(0,0)\n",
    "print(k)\n",
    "k.put_in_pouch('doll')\n",
    "k.put_in_pouch('firetruck')\n",
    "k.put_in_pouch('kitten')\n",
    "k.pouch_contents()\n",
    "k.jump(1,0)\n",
    "k.jump(1,0)\n",
    "k.jump(1,0)\n",
    "print(k)"
   ]
  },
  {
   "cell_type": "markdown",
   "metadata": {
    "id": "-HdHYdpc8myo"
   },
   "source": [
    "Question 4\n",
    "Implement a new GUI class App that combines user-defined tkinter widget classes Calculator and Mortgage displayed below: (This question can be done using a .py file)\n",
    " ![image.png](data:image/png;base64,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)\n",
    " \n",
    "Your GUI should look like this:\n",
    " \n",
    "\n",
    "![image.png](data:image/png;base64,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)\n"
   ]
  },
  {
   "cell_type": "code",
   "execution_count": 134,
   "metadata": {},
   "outputs": [],
   "source": [
    "from tkinter import *\n",
    "from tkinter.messagebox import showinfo   \n",
    "\n",
    "class App:\n",
    "    \n",
    "    def clicked():\n",
    "        \n",
    "        mortgage_value = \"no intreaction sorry \"\n",
    "        showinfo(message=mortgage_value)\n",
    "\n",
    "    def mortgage():\n",
    "        root = Tk()\n",
    "        loan = Label(root, foreground='black', background='white', pady=10, padx=10, text='Loan Amount:')\n",
    "        loan.grid(row=0, column=0)\n",
    "        loan_value = Entry(root)\n",
    "        loan_value.grid(row=0, column=1, columnspan=2)\n",
    "        interest = Label(root, foreground='black', background='white', pady=10, padx=10, text='Interest rate:')\n",
    "        interest.grid(row=1, column=0)\n",
    "        interest_value = Entry(root)\n",
    "        interest_value.grid(row=1, column=1, columnspan=2)\n",
    "        loant = Label(root, foreground='black', background='white', padx=10, pady=10, text='Loan terms:')\n",
    "        loant.grid(row=2, column=0)\n",
    "        loant_value = Entry(root)\n",
    "        loant_value.grid(row=2, column=1, columnspan=2)\n",
    "        compute = Button(root, foreground='black', background='white', padx=10, pady=10, relief=RAISED,\n",
    "                         text='Compute Mortgage:', command=clicked)\n",
    "        compute.grid(row=3, column=0)\n",
    "        compute_value = Entry(root)\n",
    "        compute_value.grid(row=3, column=3, columnspan=2)\n",
    "        root.mainloop()\n"
   ]
  },
  {
   "cell_type": "code",
   "execution_count": null,
   "metadata": {},
   "outputs": [],
   "source": []
  },
  {
   "cell_type": "code",
   "execution_count": 128,
   "metadata": {},
   "outputs": [],
   "source": [
    "from tkinter import *\n",
    "from tkinter.messagebox import showinfo\n",
    "\n",
    "class App:\n",
    "    \n",
    "        def clicked():\n",
    "             mortgage_value = \"no intreaction sorry \"\n",
    "             showinfo(message=mortgage_value)\n",
    "        def calculate():\n",
    "            root = Tk()\n",
    "            labels = [['MC', 'M+', 'M-', 'MR'],\n",
    "              ['C', '√', 'x²', '+'],\n",
    "              ['7', '8', '9', '-'],\n",
    "              ['4', '5', '6', '*'],\n",
    "              ['1', '2', '3', '/'],\n",
    "              ['0', '.', '+-', '=']]\n",
    "            for r in range(6):\n",
    "                for c in range(4):\n",
    "                    label = Button(root, foreground='black', background='white', relief=RAISED, padx=10, text=labels[r][c],\n",
    "                           command=clicked)\n",
    "                    label.grid(row=r, column=c)\n",
    "\n",
    "            root.mainloop()"
   ]
  },
  {
   "cell_type": "code",
   "execution_count": null,
   "metadata": {
    "id": "c85-Je3R86t5"
   },
   "outputs": [],
   "source": []
  },
  {
   "cell_type": "markdown",
   "metadata": {
    "id": "PwWJLm04880d"
   },
   "source": [
    "**Question 5**\n",
    "\n",
    "\n",
    "Write function collatz() that takes a positive integer x as input and prints the Collatz sequence starting at x. A Collatz sequence is obtained by repeatedly applying this rule to the previous number x in the sequence:\n",
    " \n",
    "x = {█(  x/2                    if x is even@3x+1               if x is odd)┤\n",
    "\n",
    "Your function should stop when the sequence gets to number 1. Your implementation must be recursive, without any loops.\n",
    "\n",
    ">>> collatz(1)\n",
    "1\n",
    ">>> collatz(10)\n",
    "10\n",
    "5\n",
    "16\n",
    "8\n",
    "4\n",
    "2\n",
    "1\n"
   ]
  },
  {
   "cell_type": "code",
   "execution_count": 186,
   "metadata": {
    "id": "xroLLu4x9Bxv"
   },
   "outputs": [],
   "source": [
    "def condition_one(x):\n",
    "    x=x/2\n",
    "    collatz(x)\n",
    "    \n",
    "def condition_two(x):\n",
    "    x=(3*x)+1\n",
    "    collatz(x)\n",
    "\n",
    "def collatz(x):\n",
    "    \n",
    "    if x==1:\n",
    "        return x\n",
    "    if x%2==0:\n",
    "        print(x)\n",
    "        condition_one(x)\n",
    "    elif x%2!=0:\n",
    "        print(x)\n",
    "        condition_two(x)\n",
    "    else :\n",
    "        pass"
   ]
  },
  {
   "cell_type": "code",
   "execution_count": 187,
   "metadata": {},
   "outputs": [
    {
     "name": "stdout",
     "output_type": "stream",
     "text": [
      "10\n",
      "5.0\n",
      "16.0\n",
      "8.0\n",
      "4.0\n",
      "2.0\n"
     ]
    }
   ],
   "source": [
    "collatz(10)"
   ]
  },
  {
   "cell_type": "markdown",
   "metadata": {
    "id": "DpoSN1y79CYx"
   },
   "source": [
    "**Question 6**\n",
    "\n",
    "Write a recursive method binary() that takes a non-negative integer n and prints the binary representation of integer n.\n",
    "\n",
    ">>> binary(0)\n",
    "0\n",
    ">>> binary(1)\n",
    "1\n",
    ">>> binary(3)\n",
    "11\n",
    ">>> binary(9)\n",
    "1001\n"
   ]
  },
  {
   "cell_type": "code",
   "execution_count": 171,
   "metadata": {},
   "outputs": [],
   "source": [
    "def binary(x):\n",
    "    if x<1:\n",
    "        return(\"Value is Negative\")\n",
    "    elif x>1:\n",
    "        binary(x//2)\n",
    "    print(x%2,end='')"
   ]
  },
  {
   "cell_type": "code",
   "execution_count": 172,
   "metadata": {
    "id": "t2HgR9KG9G_-"
   },
   "outputs": [
    {
     "data": {
      "text/plain": [
       "'Value is Negative'"
      ]
     },
     "execution_count": 172,
     "metadata": {},
     "output_type": "execute_result"
    }
   ],
   "source": [
    "binary(-2)"
   ]
  },
  {
   "cell_type": "code",
   "execution_count": 173,
   "metadata": {},
   "outputs": [
    {
     "name": "stdout",
     "output_type": "stream",
     "text": [
      "1010"
     ]
    }
   ],
   "source": [
    "binary(10)"
   ]
  },
  {
   "cell_type": "markdown",
   "metadata": {
    "id": "2CFAsmIb9Hm6"
   },
   "source": [
    "**Question 7**\n",
    "\n",
    "Implement a class named HeadingParser that can be used to parse an HTML document, and retrieve and print all the headings in the document. You should implement your class as a subclass of HTMLParser, defined in Standard Library module html.parser. When fed a string containing HTML code, your class should print the headings, one per line and in the order in which they appear in the document. Each heading should be indented as follows: an h1 heading should have indentation 0, and h2 heading should have indentation 1, etc. Test your implementation using w3c.html.\n",
    "\n",
    ">>> infile = open('w3c.html')\n",
    ">>> content = infile.read()\n",
    ">>> infile.close()\n",
    ">>> hp = HeadingParser()\n",
    ">>> hp.feed(content)\n",
    "W3C Mission\n",
    " Principles\n"
   ]
  },
  {
   "cell_type": "code",
   "execution_count": 125,
   "metadata": {
    "id": "VpsqXV-V9NzB"
   },
   "outputs": [],
   "source": [
    "from html.parser import *\n",
    "\n",
    "\n",
    "class HeadingParser(HTMLParser):\n",
    "    def __init__(self):\n",
    "        HTMLParser.__init__(self)\n",
    "        self.var=False\n",
    "        self.indent=0\n",
    "    def handle_data(self,stri):\n",
    "        if self.var:\n",
    "            print( \"\\033[1m\"+'{}{}'.format(self.var*'',stri)+\"\\033[0m\")\n",
    "            self.indent+=1\n",
    "    def handle_starttag(self,tag,attrs):\n",
    "        if tag in {'h0','h1','h2','h3','h4','h5'}:\n",
    "            self.var=True\n",
    "    def handle_endtag(self,tag):\n",
    "        if tag in {'h0','h1','h2','h3','h4','h5'}:\n",
    "            self.var=False\n",
    "        "
   ]
  },
  {
   "cell_type": "code",
   "execution_count": 126,
   "metadata": {},
   "outputs": [
    {
     "name": "stdout",
     "output_type": "stream",
     "text": [
      "\u001b[1mW3C Mission\u001b[0m\n",
      "\u001b[1mPrinciples\u001b[0m\n"
     ]
    }
   ],
   "source": [
    "infile=open('W3C.html')\n",
    "content=infile.read()\n",
    "infile.close()\n",
    "hp=HeadingParser()\n",
    "hp.feed(content)"
   ]
  },
  {
   "cell_type": "code",
   "execution_count": null,
   "metadata": {},
   "outputs": [],
   "source": []
  },
  {
   "cell_type": "markdown",
   "metadata": {
    "id": "arLvqE3r9OZi"
   },
   "source": [
    "**Question 8**\n",
    "\n",
    "Implement recursive function webdir() that takes as input: a URL (as a string) and non-negative integers depth and indent. Your function should visit every web page reachable from the starting URL web page in depth clicks or less, and print each web page's URL. As shown below, indentation, specified by indent,  should be used to indicate the depth of a URL.\n",
    "\n",
    ">>> webdir('http://reed.cs.depaul.edu/lperkovic/csc242/test1.html', 2, 0)\n",
    "http://reed.cs.depaul.edu/lperkovic/csc242/test1.html\n",
    "    http://reed.cs.depaul.edu/lperkovic/csc242/test2.html\n",
    "        http://reed.cs.depaul.edu/lperkovic/csc242/test4.html\n",
    "    http://reed.cs.depaul.edu/lperkovic/csc242/test3.html\n",
    "        http://reed.cs.depaul.edu/lperkovic/csc242/test4.html\n"
   ]
  },
  {
   "cell_type": "code",
   "execution_count": 110,
   "metadata": {
    "id": "bXCjoket9SIs"
   },
   "outputs": [],
   "source": [
    "from urllib.request import urlopen\n",
    "\n",
    "from urllib.parse import urljoin\n",
    "from html.parser import HTMLParser\n",
    "class Collector(HTMLParser):\n",
    "    'collects hyperlink URLs into a list'\n",
    "\n",
    "    def __init__(self, url):\n",
    "        'initializes parser, the url, and a list'\n",
    "        HTMLParser.__init__(self)\n",
    "        self.url = url\n",
    "        self.links = []\n",
    "\n",
    "def handle_starttag(self, tag, attrs):\n",
    "        'collects hyperlink URLs in their absolute format'\n",
    "        if tag == 'a':\n",
    "            for attr in attrs:\n",
    "                if attr[0] == 'href':\n",
    "                    # construct absolute URL\n",
    "                    absolute = urljoin(self.url, attr[1])\n",
    "                    if absolute[:4] == 'http': # collect HTTP URLs\n",
    "                        self.links.append(absolute)\n",
    "\n",
    "\n",
    "                        \n",
    "def getLinks(self):\n",
    "        'returns hyperlinks URLs in their absolute format'\n",
    "        return self.links\n",
    "def webdir(url):\n",
    "    \n",
    "    print('\\n\\nVisiting', url)           # for testing\n",
    "\n",
    "    # obtain links in the web page\n",
    "    content = urlopen(url).read().decode()\n",
    "    collectors = Collector(url)\n",
    "    collectors.feed(content)\n",
    "    urls = collectors.getLinks()          # get list of links\n",
    "\n",
    "    # compute word frequencies\n",
    "    content = collectors.getData()\n",
    "    freq = frequency(content)\n",
    "\n",
    "    # print the frequency of every text data word in web page\n",
    "    print('\\n{:45} {:10} {:5}'.format('URL', 'word', 'count'))\n",
    "    for word in freq:\n",
    "        print('{:45} {:10} {:5}'.format(url, word, freq[word]))\n",
    "\n",
    "#     print the http links found in web page\n",
    "    print('\\n{:45} {:10}'.format('URL', 'link'))\n",
    "    for link in urls:\n",
    "        print('{:45} {:10}'.format(url, link))\n",
    "\n",
    "    return urls\n"
   ]
  },
  {
   "cell_type": "code",
   "execution_count": 111,
   "metadata": {
    "scrolled": true
   },
   "outputs": [
    {
     "ename": "TypeError",
     "evalue": "__init__() missing 1 required positional argument: 'url'",
     "output_type": "error",
     "traceback": [
      "\u001b[1;31m---------------------------------------------------------------------------\u001b[0m",
      "\u001b[1;31mTypeError\u001b[0m                                 Traceback (most recent call last)",
      "\u001b[1;32m<ipython-input-111-e358737f20f4>\u001b[0m in \u001b[0;36m<module>\u001b[1;34m\u001b[0m\n\u001b[0;32m      2\u001b[0m \u001b[0mresource\u001b[0m \u001b[1;33m=\u001b[0m \u001b[0murlopen\u001b[0m\u001b[1;33m(\u001b[0m\u001b[0murl\u001b[0m\u001b[1;33m)\u001b[0m\u001b[1;33m\u001b[0m\u001b[1;33m\u001b[0m\u001b[0m\n\u001b[0;32m      3\u001b[0m \u001b[0mcontent\u001b[0m \u001b[1;33m=\u001b[0m \u001b[0mresource\u001b[0m\u001b[1;33m.\u001b[0m\u001b[0mread\u001b[0m\u001b[1;33m(\u001b[0m\u001b[1;33m)\u001b[0m\u001b[1;33m.\u001b[0m\u001b[0mdecode\u001b[0m\u001b[1;33m(\u001b[0m\u001b[1;33m)\u001b[0m\u001b[1;33m\u001b[0m\u001b[1;33m\u001b[0m\u001b[0m\n\u001b[1;32m----> 4\u001b[1;33m \u001b[0mcollector\u001b[0m \u001b[1;33m=\u001b[0m \u001b[0mCollector\u001b[0m\u001b[1;33m(\u001b[0m\u001b[1;33m)\u001b[0m\u001b[1;33m\u001b[0m\u001b[1;33m\u001b[0m\u001b[0m\n\u001b[0m\u001b[0;32m      5\u001b[0m \u001b[0mcollector\u001b[0m\u001b[1;33m.\u001b[0m\u001b[0mfeed\u001b[0m\u001b[1;33m(\u001b[0m\u001b[0mcontent\u001b[0m\u001b[1;33m)\u001b[0m\u001b[1;33m\u001b[0m\u001b[1;33m\u001b[0m\u001b[0m\n\u001b[0;32m      6\u001b[0m \u001b[0mcollector\u001b[0m\u001b[1;33m.\u001b[0m\u001b[0mgetLinks\u001b[0m\u001b[1;33m(\u001b[0m\u001b[1;33m)\u001b[0m\u001b[1;33m\u001b[0m\u001b[1;33m\u001b[0m\u001b[0m\n",
      "\u001b[1;31mTypeError\u001b[0m: __init__() missing 1 required positional argument: 'url'"
     ]
    }
   ],
   "source": [
    "\n",
    "url = 'http://www.w3.org/Consortium/mission.html'\n",
    "resource = urlopen(url)\n",
    "content = resource.read().decode()\n",
    "collector = Collector()\n",
    "collector.feed(content)\n",
    "collector.getLinks()\n",
    "webdir('http://reed.cs.depaul.edu/lperkovic/one.html')"
   ]
  },
  {
   "cell_type": "markdown",
   "metadata": {
    "id": "69RfIOay9cWj"
   },
   "source": [
    "Question 9\n",
    "Write SQL queries on the below database table that return: \n",
    "\n",
    "a)\tAll the temperature data.\n",
    "\n",
    "b)\tAll the cities, but without repetition.\n",
    "\n",
    "c)\tAll the records for India.\n",
    "\n",
    "d)\tAll the Fall records.\n",
    "\n",
    "e)\tThe city, country, and season for which the average rainfall is between 200 and 400 millimeters.\n",
    "\n",
    "f)\tThe city and country for which the average Fall temperature is above 20 degrees, in increasing temperature order.\n",
    "\n",
    "g)\tThe total annual rainfall for Cairo.\n",
    "\n",
    "h)\tThe total rainfall for each season.\n",
    "\n",
    "City \tCountry \tSeason \tTemperature (C)\tRainfall (mm)\n",
    "Mumbai \tIndia \tWinter \t24.8 \t5.9 \n",
    "Mumbai \tIndia \tSpring\t28.4 \t16.2 \n",
    "Mumbai \tIndia \tSummer\t27.9 \t1549.4 \n",
    "Mumbai \tIndia \tFall\t27.6 \t346.0 \n",
    "London \tUnited Kingdom \tWinter\t4.2 \t207.7 \n",
    "London \tUnited Kingdom \tSpring\t8.3 \t169.6 \n",
    "London \tUnited Kingdom \tSummer\t15.7 \t157.0 \n",
    "London \tUnited Kingdom \tFall\t10.4 \t218.5 \n",
    "Cairo \tEgypt \tWinter\t13.6 \t16.5 \n",
    "Cairo \tEgypt \tSpring\t20.7 \t6.5 \n",
    "Cairo \tEgypt \tSummer\t27.7 \t0.1 \n",
    "Cairo \tEgypt \tFall\t22.2 \t4.5 \n",
    "\n",
    "\n"
   ]
  },
  {
   "cell_type": "code",
   "execution_count": null,
   "metadata": {},
   "outputs": [],
   "source": [
    " !pip install ipython-sql"
   ]
  },
  {
   "cell_type": "code",
   "execution_count": null,
   "metadata": {},
   "outputs": [],
   "source": [
    " %load_ext sql\n"
   ]
  },
  {
   "cell_type": "code",
   "execution_count": null,
   "metadata": {},
   "outputs": [],
   "source": [
    "%sql sqlite://"
   ]
  },
  {
   "cell_type": "code",
   "execution_count": null,
   "metadata": {},
   "outputs": [],
   "source": [
    "%%sql\n",
    "CREATE TABLE PS2(City varchar(50),Country varchar(50),Season varchar(50),Temprature real,Rainfall real);"
   ]
  },
  {
   "cell_type": "code",
   "execution_count": null,
   "metadata": {},
   "outputs": [],
   "source": [
    "%sql SELECT * from PS2;"
   ]
  },
  {
   "cell_type": "code",
   "execution_count": null,
   "metadata": {},
   "outputs": [],
   "source": [
    "%%sql\n",
    "\n",
    "UPDATE PS2 SET City='Cairo' \n",
    "where City='Cario';"
   ]
  },
  {
   "cell_type": "code",
   "execution_count": null,
   "metadata": {},
   "outputs": [],
   "source": [
    "%%sql\n",
    "INSERT INTO PS2 VALUES('Mumbai','India','Spring',28.4,'16.2');\n",
    "INSERT INTO PS2 VALUES('Mumbai','India','Summer',27.9,1549.4);\n",
    "INSERT INTO PS2 VALUES('Mumbai','India','Fall',27.6,346.0);\n",
    "INSERT INTO PS2 VALUES('London','United Kingdom','Winter',4.2,207.7);\n",
    "INSERT INTO PS2 VALUES('London','United Kingdom','Spring',8.3,169.6);\n",
    "INSERT INTO PS2 VALUES('London','United Kingdom','Summer',15.7,157.0);\n",
    "INSERT INTO PS2 VALUES('London','United Kingdom','Fall',10.4,218.5);\n",
    "INSERT INTO PS2 VALUES('Cario','Egypt','Winter',13.6,16.5);\n",
    "INSERT INTO PS2 VALUES('Cario','Egypt','Spring',20.7,6.5);\n",
    "INSERT INTO PS2 VALUES('Cario','Egypt','Summer',27.7,0.1);\n",
    "INSERT INTO PS2 VALUES('Cario','Egypt','Fall',22.2,4.5);"
   ]
  },
  {
   "cell_type": "code",
   "execution_count": 156,
   "metadata": {},
   "outputs": [
    {
     "name": "stdout",
     "output_type": "stream",
     "text": [
      " * sqlite://\n",
      "Done.\n"
     ]
    },
    {
     "data": {
      "text/html": [
       "<table>\n",
       "    <tr>\n",
       "        <th>City</th>\n",
       "        <th>Country</th>\n",
       "        <th>Season</th>\n",
       "        <th>Temprature</th>\n",
       "        <th>Rainfall</th>\n",
       "    </tr>\n",
       "    <tr>\n",
       "        <td>Mumbai</td>\n",
       "        <td>India</td>\n",
       "        <td>Spring</td>\n",
       "        <td>28.4</td>\n",
       "        <td>16.2</td>\n",
       "    </tr>\n",
       "    <tr>\n",
       "        <td>Mumbai</td>\n",
       "        <td>India</td>\n",
       "        <td>Summer</td>\n",
       "        <td>27.9</td>\n",
       "        <td>1549.4</td>\n",
       "    </tr>\n",
       "    <tr>\n",
       "        <td>Mumbai</td>\n",
       "        <td>India</td>\n",
       "        <td>Fall</td>\n",
       "        <td>27.6</td>\n",
       "        <td>346.0</td>\n",
       "    </tr>\n",
       "    <tr>\n",
       "        <td>London</td>\n",
       "        <td>United Kingdom</td>\n",
       "        <td>Winter</td>\n",
       "        <td>4.2</td>\n",
       "        <td>207.7</td>\n",
       "    </tr>\n",
       "    <tr>\n",
       "        <td>London</td>\n",
       "        <td>United Kingdom</td>\n",
       "        <td>Spring</td>\n",
       "        <td>8.3</td>\n",
       "        <td>169.6</td>\n",
       "    </tr>\n",
       "    <tr>\n",
       "        <td>London</td>\n",
       "        <td>United Kingdom</td>\n",
       "        <td>Summer</td>\n",
       "        <td>15.7</td>\n",
       "        <td>157.0</td>\n",
       "    </tr>\n",
       "    <tr>\n",
       "        <td>London</td>\n",
       "        <td>United Kingdom</td>\n",
       "        <td>Fall</td>\n",
       "        <td>10.4</td>\n",
       "        <td>218.5</td>\n",
       "    </tr>\n",
       "    <tr>\n",
       "        <td>Cairo</td>\n",
       "        <td>Egypt</td>\n",
       "        <td>Winter</td>\n",
       "        <td>13.6</td>\n",
       "        <td>16.5</td>\n",
       "    </tr>\n",
       "    <tr>\n",
       "        <td>Cairo</td>\n",
       "        <td>Egypt</td>\n",
       "        <td>Spring</td>\n",
       "        <td>20.7</td>\n",
       "        <td>6.5</td>\n",
       "    </tr>\n",
       "    <tr>\n",
       "        <td>Cairo</td>\n",
       "        <td>Egypt</td>\n",
       "        <td>Summer</td>\n",
       "        <td>27.7</td>\n",
       "        <td>0.1</td>\n",
       "    </tr>\n",
       "    <tr>\n",
       "        <td>Cairo</td>\n",
       "        <td>Egypt</td>\n",
       "        <td>Fall</td>\n",
       "        <td>22.2</td>\n",
       "        <td>4.5</td>\n",
       "    </tr>\n",
       "</table>"
      ],
      "text/plain": [
       "[('Mumbai', 'India', 'Spring', 28.4, 16.2),\n",
       " ('Mumbai', 'India', 'Summer', 27.9, 1549.4),\n",
       " ('Mumbai', 'India', 'Fall', 27.6, 346.0),\n",
       " ('London', 'United Kingdom', 'Winter', 4.2, 207.7),\n",
       " ('London', 'United Kingdom', 'Spring', 8.3, 169.6),\n",
       " ('London', 'United Kingdom', 'Summer', 15.7, 157.0),\n",
       " ('London', 'United Kingdom', 'Fall', 10.4, 218.5),\n",
       " ('Cairo', 'Egypt', 'Winter', 13.6, 16.5),\n",
       " ('Cairo', 'Egypt', 'Spring', 20.7, 6.5),\n",
       " ('Cairo', 'Egypt', 'Summer', 27.7, 0.1),\n",
       " ('Cairo', 'Egypt', 'Fall', 22.2, 4.5)]"
      ]
     },
     "execution_count": 156,
     "metadata": {},
     "output_type": "execute_result"
    }
   ],
   "source": [
    "%sql SELECT * FROM PS2"
   ]
  },
  {
   "cell_type": "code",
   "execution_count": 157,
   "metadata": {
    "id": "vYldn9SJ9qc-"
   },
   "outputs": [
    {
     "name": "stdout",
     "output_type": "stream",
     "text": [
      " * sqlite://\n",
      "Done.\n"
     ]
    },
    {
     "data": {
      "text/html": [
       "<table>\n",
       "    <tr>\n",
       "        <th>Temprature</th>\n",
       "    </tr>\n",
       "    <tr>\n",
       "        <td>28.4</td>\n",
       "    </tr>\n",
       "    <tr>\n",
       "        <td>27.9</td>\n",
       "    </tr>\n",
       "    <tr>\n",
       "        <td>27.6</td>\n",
       "    </tr>\n",
       "    <tr>\n",
       "        <td>4.2</td>\n",
       "    </tr>\n",
       "    <tr>\n",
       "        <td>8.3</td>\n",
       "    </tr>\n",
       "    <tr>\n",
       "        <td>15.7</td>\n",
       "    </tr>\n",
       "    <tr>\n",
       "        <td>10.4</td>\n",
       "    </tr>\n",
       "    <tr>\n",
       "        <td>13.6</td>\n",
       "    </tr>\n",
       "    <tr>\n",
       "        <td>20.7</td>\n",
       "    </tr>\n",
       "    <tr>\n",
       "        <td>27.7</td>\n",
       "    </tr>\n",
       "    <tr>\n",
       "        <td>22.2</td>\n",
       "    </tr>\n",
       "</table>"
      ],
      "text/plain": [
       "[(28.4,),\n",
       " (27.9,),\n",
       " (27.6,),\n",
       " (4.2,),\n",
       " (8.3,),\n",
       " (15.7,),\n",
       " (10.4,),\n",
       " (13.6,),\n",
       " (20.7,),\n",
       " (27.7,),\n",
       " (22.2,)]"
      ]
     },
     "execution_count": 157,
     "metadata": {},
     "output_type": "execute_result"
    }
   ],
   "source": [
    "%%sql\n",
    "SELECT Temprature FROM PS2; "
   ]
  },
  {
   "cell_type": "code",
   "execution_count": 158,
   "metadata": {},
   "outputs": [
    {
     "name": "stdout",
     "output_type": "stream",
     "text": [
      " * sqlite://\n",
      "Done.\n"
     ]
    },
    {
     "data": {
      "text/html": [
       "<table>\n",
       "    <tr>\n",
       "        <th>City</th>\n",
       "    </tr>\n",
       "    <tr>\n",
       "        <td>Cairo</td>\n",
       "    </tr>\n",
       "    <tr>\n",
       "        <td>London</td>\n",
       "    </tr>\n",
       "    <tr>\n",
       "        <td>Mumbai</td>\n",
       "    </tr>\n",
       "</table>"
      ],
      "text/plain": [
       "[('Cairo',), ('London',), ('Mumbai',)]"
      ]
     },
     "execution_count": 158,
     "metadata": {},
     "output_type": "execute_result"
    }
   ],
   "source": [
    "%%sql\n",
    "SELECT City FROM PS2 Group By City;"
   ]
  },
  {
   "cell_type": "code",
   "execution_count": 159,
   "metadata": {},
   "outputs": [
    {
     "name": "stdout",
     "output_type": "stream",
     "text": [
      " * sqlite://\n",
      "Done.\n"
     ]
    },
    {
     "data": {
      "text/html": [
       "<table>\n",
       "    <tr>\n",
       "        <th>City</th>\n",
       "        <th>Country</th>\n",
       "        <th>Season</th>\n",
       "        <th>Temprature</th>\n",
       "        <th>Rainfall</th>\n",
       "    </tr>\n",
       "    <tr>\n",
       "        <td>Mumbai</td>\n",
       "        <td>India</td>\n",
       "        <td>Spring</td>\n",
       "        <td>28.4</td>\n",
       "        <td>16.2</td>\n",
       "    </tr>\n",
       "    <tr>\n",
       "        <td>Mumbai</td>\n",
       "        <td>India</td>\n",
       "        <td>Summer</td>\n",
       "        <td>27.9</td>\n",
       "        <td>1549.4</td>\n",
       "    </tr>\n",
       "    <tr>\n",
       "        <td>Mumbai</td>\n",
       "        <td>India</td>\n",
       "        <td>Fall</td>\n",
       "        <td>27.6</td>\n",
       "        <td>346.0</td>\n",
       "    </tr>\n",
       "</table>"
      ],
      "text/plain": [
       "[('Mumbai', 'India', 'Spring', 28.4, 16.2),\n",
       " ('Mumbai', 'India', 'Summer', 27.9, 1549.4),\n",
       " ('Mumbai', 'India', 'Fall', 27.6, 346.0)]"
      ]
     },
     "execution_count": 159,
     "metadata": {},
     "output_type": "execute_result"
    }
   ],
   "source": [
    "%%sql\n",
    "SELECT * FROM PS2 where Country ='India';"
   ]
  },
  {
   "cell_type": "code",
   "execution_count": 160,
   "metadata": {},
   "outputs": [
    {
     "name": "stdout",
     "output_type": "stream",
     "text": [
      " * sqlite://\n",
      "Done.\n"
     ]
    },
    {
     "data": {
      "text/html": [
       "<table>\n",
       "    <tr>\n",
       "        <th>City</th>\n",
       "        <th>Country</th>\n",
       "        <th>Season</th>\n",
       "        <th>Temprature</th>\n",
       "        <th>Rainfall</th>\n",
       "    </tr>\n",
       "    <tr>\n",
       "        <td>Mumbai</td>\n",
       "        <td>India</td>\n",
       "        <td>Fall</td>\n",
       "        <td>27.6</td>\n",
       "        <td>346.0</td>\n",
       "    </tr>\n",
       "    <tr>\n",
       "        <td>London</td>\n",
       "        <td>United Kingdom</td>\n",
       "        <td>Fall</td>\n",
       "        <td>10.4</td>\n",
       "        <td>218.5</td>\n",
       "    </tr>\n",
       "    <tr>\n",
       "        <td>Cairo</td>\n",
       "        <td>Egypt</td>\n",
       "        <td>Fall</td>\n",
       "        <td>22.2</td>\n",
       "        <td>4.5</td>\n",
       "    </tr>\n",
       "</table>"
      ],
      "text/plain": [
       "[('Mumbai', 'India', 'Fall', 27.6, 346.0),\n",
       " ('London', 'United Kingdom', 'Fall', 10.4, 218.5),\n",
       " ('Cairo', 'Egypt', 'Fall', 22.2, 4.5)]"
      ]
     },
     "execution_count": 160,
     "metadata": {},
     "output_type": "execute_result"
    }
   ],
   "source": [
    "%%sql\n",
    "SELECT * FROM PS2 where Season ='Fall'"
   ]
  },
  {
   "cell_type": "code",
   "execution_count": 161,
   "metadata": {},
   "outputs": [
    {
     "name": "stdout",
     "output_type": "stream",
     "text": [
      " * sqlite://\n",
      "Done.\n"
     ]
    },
    {
     "data": {
      "text/html": [
       "<table>\n",
       "    <tr>\n",
       "        <th>City</th>\n",
       "        <th>Country</th>\n",
       "        <th>Season</th>\n",
       "    </tr>\n",
       "    <tr>\n",
       "        <td>Mumbai</td>\n",
       "        <td>India</td>\n",
       "        <td>Fall</td>\n",
       "    </tr>\n",
       "    <tr>\n",
       "        <td>London</td>\n",
       "        <td>United Kingdom</td>\n",
       "        <td>Winter</td>\n",
       "    </tr>\n",
       "    <tr>\n",
       "        <td>London</td>\n",
       "        <td>United Kingdom</td>\n",
       "        <td>Fall</td>\n",
       "    </tr>\n",
       "</table>"
      ],
      "text/plain": [
       "[('Mumbai', 'India', 'Fall'),\n",
       " ('London', 'United Kingdom', 'Winter'),\n",
       " ('London', 'United Kingdom', 'Fall')]"
      ]
     },
     "execution_count": 161,
     "metadata": {},
     "output_type": "execute_result"
    }
   ],
   "source": [
    "%%sql\n",
    "SELECT CITY, COUNTRY, SEASON FROM PS2 where Rainfall<=400 AND Rainfall >=200"
   ]
  },
  {
   "cell_type": "code",
   "execution_count": 162,
   "metadata": {},
   "outputs": [
    {
     "name": "stdout",
     "output_type": "stream",
     "text": [
      " * sqlite://\n",
      "Done.\n"
     ]
    },
    {
     "data": {
      "text/html": [
       "<table>\n",
       "    <tr>\n",
       "        <th>City</th>\n",
       "        <th>Country</th>\n",
       "    </tr>\n",
       "    <tr>\n",
       "        <td>Mumbai</td>\n",
       "        <td>India</td>\n",
       "    </tr>\n",
       "    <tr>\n",
       "        <td>Cairo</td>\n",
       "        <td>Egypt</td>\n",
       "    </tr>\n",
       "</table>"
      ],
      "text/plain": [
       "[('Mumbai', 'India'), ('Cairo', 'Egypt')]"
      ]
     },
     "execution_count": 162,
     "metadata": {},
     "output_type": "execute_result"
    }
   ],
   "source": [
    "%%sql\n",
    "SELECT CITY , COUNTRY FROM PS2 where Temprature >20 AND Season ='Fall'\n"
   ]
  },
  {
   "cell_type": "code",
   "execution_count": 163,
   "metadata": {},
   "outputs": [
    {
     "name": "stdout",
     "output_type": "stream",
     "text": [
      " * sqlite://\n",
      "Done.\n"
     ]
    },
    {
     "data": {
      "text/html": [
       "<table>\n",
       "    <tr>\n",
       "        <th>sum(Rainfall)</th>\n",
       "    </tr>\n",
       "    <tr>\n",
       "        <td>27.6</td>\n",
       "    </tr>\n",
       "</table>"
      ],
      "text/plain": [
       "[(27.6,)]"
      ]
     },
     "execution_count": 163,
     "metadata": {},
     "output_type": "execute_result"
    }
   ],
   "source": [
    "%%sql\n",
    "SELECT sum(Rainfall) FROM PS2 where City= 'Cairo';"
   ]
  },
  {
   "cell_type": "code",
   "execution_count": 164,
   "metadata": {},
   "outputs": [
    {
     "name": "stdout",
     "output_type": "stream",
     "text": [
      " * sqlite://\n",
      "Done.\n"
     ]
    },
    {
     "data": {
      "text/html": [
       "<table>\n",
       "    <tr>\n",
       "        <th>Rainfall</th>\n",
       "    </tr>\n",
       "    <tr>\n",
       "        <td>346.0</td>\n",
       "    </tr>\n",
       "    <tr>\n",
       "        <td>16.2</td>\n",
       "    </tr>\n",
       "    <tr>\n",
       "        <td>1549.4</td>\n",
       "    </tr>\n",
       "    <tr>\n",
       "        <td>207.7</td>\n",
       "    </tr>\n",
       "</table>"
      ],
      "text/plain": [
       "[(346.0,), (16.2,), (1549.4,), (207.7,)]"
      ]
     },
     "execution_count": 164,
     "metadata": {},
     "output_type": "execute_result"
    }
   ],
   "source": [
    "%%sql\n",
    "SELECT Rainfall FROM PS2 Group By Season;"
   ]
  },
  {
   "cell_type": "markdown",
   "metadata": {
    "id": "1iNat7UC9r7d"
   },
   "source": [
    "Question 10\n",
    "\n",
    ". Suppose list words is defined as follows:\n",
    ">>> words = ['The', 'quick', 'brown', 'fox', 'jumps', 'over', 'the', 'lazy', 'dog']\n",
    "\n",
    "Write list comprehension expressions that use list words and generate the following lists:\n",
    "\n",
    "a)\t['THE', 'QUICK', 'BROWN', 'FOX', 'JUMPS', 'OVER', 'THE', 'LAZY', 'DOG']\n",
    "\n",
    "b)\t['the', 'quick', 'brown', 'fox', 'jumps', 'over', 'the', 'lazy', 'dog']\n",
    "\n",
    "c)\t[3, 5, 5, 3, 5, 4, 3, 4, 3] (the list of lengths of words in list words).\n",
    "\n",
    "d)\t[['THE', 'the', 3], ['QUICK', 'quick', 5], ['BROWN', 'brown', 5], ['FOX', 'fox', 3], ['JUMPS', 'jumps', 5], ['OVER', 'over', 4], ['THE', 'the', 3], ['LAZY', 'lazy', 4], ['DOG', 'dog', 3]] (the list containing a list for every word of list words, where each list contains the word in uppercase and lowercase and the length of the word.)\n",
    "\n",
    "e)\t['The', 'quick', 'brown', 'fox', 'jumps', 'over', 'the', 'lazy', 'dog'] (the list of words in list words containing 4 or more characters.)\n",
    "\n"
   ]
  },
  {
   "cell_type": "code",
   "execution_count": 141,
   "metadata": {
    "id": "pZ-Ug8Mp91fI"
   },
   "outputs": [],
   "source": [
    "words = ['The', 'quick', 'brown', 'fox', 'jumps', 'over', 'the', 'lazy', 'dog']"
   ]
  },
  {
   "cell_type": "code",
   "execution_count": 142,
   "metadata": {},
   "outputs": [
    {
     "name": "stdout",
     "output_type": "stream",
     "text": [
      "['THE', 'QUICK', 'BROWN', 'FOX', 'JUMPS', 'OVER', 'THE', 'LAZY', 'DOG']\n"
     ]
    }
   ],
   "source": [
    "#A\n",
    "#list=[]\n",
    "#for i in words:\n",
    "    #list=i.upper()\n",
    "#print(list)\n",
    "list=[x.upper() for x in words]\n",
    "print(list)"
   ]
  },
  {
   "cell_type": "code",
   "execution_count": 143,
   "metadata": {},
   "outputs": [
    {
     "name": "stdout",
     "output_type": "stream",
     "text": [
      "['the', 'quick', 'brown', 'fox', 'jumps', 'over', 'the', 'lazy', 'dog']\n"
     ]
    }
   ],
   "source": [
    "#B\n",
    "list2=[x.lower() for x in words]\n",
    "print(list2)"
   ]
  },
  {
   "cell_type": "code",
   "execution_count": 144,
   "metadata": {},
   "outputs": [
    {
     "name": "stdout",
     "output_type": "stream",
     "text": [
      "[3, 5, 5, 3, 5, 4, 3, 4, 3]\n"
     ]
    }
   ],
   "source": [
    "#C\n",
    "list3=[len(i) for i in words]\n",
    "print(list3)"
   ]
  },
  {
   "cell_type": "code",
   "execution_count": 155,
   "metadata": {},
   "outputs": [
    {
     "data": {
      "text/plain": [
       "[['THE', 'the', 3],\n",
       " ['QUICK', 'quick', 5],\n",
       " ['BROWN', 'brown', 5],\n",
       " ['FOX', 'fox', 3],\n",
       " ['JUMPS', 'jumps', 5],\n",
       " ['OVER', 'over', 4],\n",
       " ['THE', 'the', 3],\n",
       " ['LAZY', 'lazy', 4],\n",
       " ['DOG', 'dog', 3]]"
      ]
     },
     "execution_count": 155,
     "metadata": {},
     "output_type": "execute_result"
    }
   ],
   "source": [
    "#4\n",
    "list4=[[i.upper(), i.lower(), len(i)] for i in list]\n",
    "list4"
   ]
  },
  {
   "cell_type": "code",
   "execution_count": 146,
   "metadata": {},
   "outputs": [
    {
     "name": "stdout",
     "output_type": "stream",
     "text": [
      "['quick', 'brown', 'jumps', 'over', 'lazy']\n"
     ]
    }
   ],
   "source": [
    "#5\n",
    "list5=[]\n",
    "for i in words:\n",
    "    if len(i) >=4:\n",
    "        list5+=[i]\n",
    "print(list5)    \n",
    "    "
   ]
  },
  {
   "cell_type": "code",
   "execution_count": null,
   "metadata": {},
   "outputs": [],
   "source": []
  },
  {
   "cell_type": "code",
   "execution_count": null,
   "metadata": {
    "scrolled": true
   },
   "outputs": [],
   "source": []
  },
  {
   "cell_type": "code",
   "execution_count": null,
   "metadata": {},
   "outputs": [],
   "source": []
  }
 ],
 "metadata": {
  "colab": {
   "name": "Problem_set_2.ipynb",
   "provenance": []
  },
  "kernelspec": {
   "display_name": "Python 3",
   "language": "python",
   "name": "python3"
  },
  "language_info": {
   "codemirror_mode": {
    "name": "ipython",
    "version": 3
   },
   "file_extension": ".py",
   "mimetype": "text/x-python",
   "name": "python",
   "nbconvert_exporter": "python",
   "pygments_lexer": "ipython3",
   "version": "3.8.3"
  }
 },
 "nbformat": 4,
 "nbformat_minor": 1
}
