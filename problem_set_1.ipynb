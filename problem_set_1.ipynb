{
  "nbformat": 4,
  "nbformat_minor": 0,
  "metadata": {
    "colab": {
      "name": "problem set 1.ipynb",
      "provenance": [],
      "collapsed_sections": []
    },
    "kernelspec": {
      "name": "python3",
      "display_name": "Python 3"
    }
  },
  "cells": [
    {
      "cell_type": "code",
      "metadata": {
        "id": "JtwXqz-ZCyzL"
      },
      "source": [
        "import math"
      ],
      "execution_count": null,
      "outputs": []
    },
    {
      "cell_type": "markdown",
      "metadata": {
        "id": "fFR9Xy2X1EPB"
      },
      "source": [
        "Question 1\n",
        "What data type is each of the following?\n",
        "5\n",
        "5.0\n",
        "5 > 1\n",
        "'5'\n",
        "5 * 2\n",
        "'5' * 2\n",
        "'5' + '2'\n",
        "5 / 2\n",
        "5 // 2\n",
        "[5, 2, 1]\n",
        "5 in [1, 4, 6]\n",
        "math.pi\n",
        "\n"
      ]
    },
    {
      "cell_type": "code",
      "metadata": {
        "id": "pp4bmejsgvQp",
        "outputId": "c561f784-f15f-444d-9ecb-b796e6ebbd86",
        "colab": {
          "base_uri": "https://localhost:8080/",
          "height": 187
        }
      },
      "source": [
        "print(type(5))\n",
        "print(type(5.0))\n",
        "print(type(5>1))\n",
        "print(type('5'))\n",
        "print(type(5 * 2))\n",
        "print(type('5' * 2))\n",
        "print(type('5' + '2'))\n",
        "print(type(5 / 2))\n",
        "print(type(5 // 2)),type([5, 2, 1]),type(5 in [1, 4, 6]),type(\"math.pi\")"
      ],
      "execution_count": null,
      "outputs": [
        {
          "output_type": "stream",
          "text": [
            "<class 'int'>\n",
            "<class 'float'>\n",
            "<class 'bool'>\n",
            "<class 'str'>\n",
            "<class 'int'>\n",
            "<class 'str'>\n",
            "<class 'str'>\n",
            "<class 'float'>\n",
            "<class 'int'>\n"
          ],
          "name": "stdout"
        },
        {
          "output_type": "execute_result",
          "data": {
            "text/plain": [
              "(None, list, bool, str)"
            ]
          },
          "metadata": {
            "tags": []
          },
          "execution_count": 3
        }
      ]
    },
    {
      "cell_type": "markdown",
      "metadata": {
        "id": "sMH9EhVa2nLR"
      },
      "source": [
        "Write (and evaluate) Python expressions that answer these questions:\n",
        "\n",
        "a. How many letters are there in 'Supercalifragilisticexpialidocious'?\n",
        "\n",
        "b. Does 'Supercalifragilisticexpialidocious' contain 'ice' as a substring?\n",
        "\n",
        "c. Which of the following words is the longest:\n",
        "Supercalifragilisticexpialidocious, Honorificabilitudinitatibus, or\n",
        "Bababadalgharaghtakamminarronnkonn?\n",
        "\n",
        "d. Which composer comes first in the dictionary: 'Berlioz', 'Borodin', 'Brian',\n",
        "'Bartok', 'Bellini', 'Buxtehude', 'Bernstein'. Which one comes last?"
      ]
    },
    {
      "cell_type": "code",
      "metadata": {
        "id": "8XU9KyyA1WN2",
        "outputId": "6103bd0b-4338-4429-a8ed-9e1ab04afce0",
        "colab": {
          "base_uri": "https://localhost:8080/",
          "height": 170
        }
      },
      "source": [
        "str1='Supercalifragilisticexpialidocious'\n",
        "str2='Honorificabilitudinitatibus'\n",
        "str3='Bababadalgharaghtakamminarronnkonn'\n",
        "word ='ice'\n",
        "print(\"the length of the String {} is: \".format(str1),len(str1))\n",
        "print('*'*20)\n",
        "if word in str1:\n",
        "  print(\"The {} contains {}\".format(str1,word))\n",
        "print('*'*20)\n",
        "if len(str1)>len(str2) and len(str1)>len(str3):\n",
        "  print(\"the bigger length word is : {} {}\".format(str1,len(str1)))\n",
        "elif len(str2)>len(str1) and len(str2)>len(str3):\n",
        "  print(\"the bigger length word is :{} {} \".format(str2,len(str2)))\n",
        "else:\n",
        "  print(\"the bigger length word is : {} {}\".format(str3,len(str3))) \n",
        "print('*'*20)\n",
        "list1=['Berlioz', 'Borodin', 'Brian', 'Bartok', 'Bellini', 'Buxtehude', 'Bernstein']\n",
        "list1.sort()\n",
        "print(\"The Sorted list is : \",list1)\n",
        "print(\"The First word in the list is : \",list1[0])\n",
        "print(\"The last word in the list is : \",list1[-1])\n"
      ],
      "execution_count": null,
      "outputs": [
        {
          "output_type": "stream",
          "text": [
            "the length of the String Supercalifragilisticexpialidocious is:  34\n",
            "********************\n",
            "The Supercalifragilisticexpialidocious contains ice\n",
            "********************\n",
            "the bigger length word is : Bababadalgharaghtakamminarronnkonn 34\n",
            "********************\n",
            "The Sorted list is :  ['Bartok', 'Bellini', 'Berlioz', 'Bernstein', 'Borodin', 'Brian', 'Buxtehude']\n",
            "The First word in the list is :  Bartok\n",
            "The last word in the list is :  Buxtehude\n"
          ],
          "name": "stdout"
        }
      ]
    },
    {
      "cell_type": "markdown",
      "metadata": {
        "id": "uWFaiuSt3nmU"
      },
      "source": [
        ""
      ]
    },
    {
      "cell_type": "markdown",
      "metadata": {
        "id": "8kL5yap_6w5h"
      },
      "source": [
        "Question 3\n",
        "\n",
        "a. Write a function inside(x,y,x1,y1,x2,y2) that returns True or False\n",
        "depending on whether the point (x,y) lies in the rectangle with lower left\n",
        "corner (x1,y1) and upper right corner (x2,y2).\n",
        ">>> inside(1,1,0,0,2,3)\n",
        "True\n",
        ">>> inside(-1,-1,0,0,2,3)\n",
        "False\n",
        "\n",
        "b. Use function inside() from part a. to write an expression that tests whether\n",
        "the point (1,1) lies in both of the following rectangles: one with lower left\n",
        "corner (0.3, 0.5) and upper right corner (1.1, 0.7) and the other with lower\n",
        "left corner (0.5, 0.2) and upper right corner (1.1, 2). "
      ]
    },
    {
      "cell_type": "code",
      "metadata": {
        "id": "m1JgHplo3THA"
      },
      "source": [
        "#The solution for part A\n",
        "\n",
        "def inside(x,y,x1,y1,x2,y2) : \n",
        "    if (x >= x1 and x <= x2) and (y >= y1 and y <= y2) : \n",
        "        print('The point ({},{}) lies within the rectangle ({},{}) and ({},{}).'.format(x,y,x1,y1,x2,y2))\n",
        "        return True\n",
        "    else:\n",
        "        print('The point ({},{}) lies outside the rectangle ({},{}) and ({},{}).'.format(x,y,x1,y1,x2,y2))\n",
        "        return False;"
      ],
      "execution_count": null,
      "outputs": []
    },
    {
      "cell_type": "code",
      "metadata": {
        "id": "HRjDsJCukEDZ",
        "outputId": "e5a9d1e1-0f0c-4365-da2c-8c515e9928ee",
        "colab": {
          "base_uri": "https://localhost:8080/",
          "height": 51
        }
      },
      "source": [
        "inside(1,1,0,0,2,3)"
      ],
      "execution_count": null,
      "outputs": [
        {
          "output_type": "stream",
          "text": [
            "The point (1,1) lies within the rectangle (0,0) and (2,3).\n"
          ],
          "name": "stdout"
        },
        {
          "output_type": "execute_result",
          "data": {
            "text/plain": [
              "True"
            ]
          },
          "metadata": {
            "tags": []
          },
          "execution_count": 17
        }
      ]
    },
    {
      "cell_type": "code",
      "metadata": {
        "id": "zEyPw_sfkZ0z",
        "outputId": "c5b97c01-0f76-4461-9758-d44e09454422",
        "colab": {
          "base_uri": "https://localhost:8080/",
          "height": 34
        }
      },
      "source": [
        "#the solution for part B\n",
        "def inside(x,y,x1,y1,x2,y2) : \n",
        "    if (x >= x1 and x <= x2) and (y >= y1 and y <= y2) :\n",
        "        return True\n",
        "    else:\n",
        "        return False;\n",
        "a = inside(1,1,0.3,0.5,1.1,0.7)\n",
        "b = inside(1,1,0.5,0.2,1.1,2)\n",
        "if (a == True and b == True):\n",
        "    print('The point (1,1) lies within both the rectangle (0.3,0.5)(1.1,0.7) and (0.5,0.2)(1.1,2).')\n",
        "else:\n",
        "    print('The point (1,1) does not lie within both the rectangle (0.3,0.5)(1.1,0.7) and (0.5,0.2)(1.1,2).')"
      ],
      "execution_count": null,
      "outputs": [
        {
          "output_type": "stream",
          "text": [
            "The point (1,1) does not lie within both the rectangle (0.3,0.5)(1.1,0.7) and (0.5,0.2)(1.1,2).\n"
          ],
          "name": "stdout"
        }
      ]
    },
    {
      "cell_type": "markdown",
      "metadata": {
        "id": "9K8Sn7p7AuK-"
      },
      "source": [
        "Question 4\n",
        "\n",
        "16. You can turn a word into pig-Latin using the following two rules (simplified):\n",
        "• If the word starts with a consonant, move that letter to the end and append\n",
        "'ay'. For example, 'happy' becomes 'appyhay' and 'pencil' becomes 'encilpay'.\n",
        "• If the word starts with a vowel, simply append 'way' to the end of the word.\n",
        "For example, 'enter' becomes 'enterway' and 'other' becomes 'otherway' . For\n",
        "our purposes, there are 5 vowels: a, e, i, o, u (so we count y as a consonant).\n",
        "Write a function pig() that takes a word (i.e., a string) as input and returns its pigLatin form. Your function should still work if the input word contains upper case\n",
        "characters. Your output should always be lower case however. "
      ]
    },
    {
      "cell_type": "code",
      "metadata": {
        "id": "R-ebeK_F8HBm"
      },
      "source": [
        "def pig(str):\n",
        "  s=str.lower()\n",
        "  if s[0]!='a'or s[0]!='e':\n",
        "    print(s)\n",
        "  elif s[0]!='i' or s[0]!='o':\n",
        "    print(s)\n",
        "  elif s[0]!='u':\n",
        "    print(s)\n",
        "  else:\n",
        "      print(s[1:]+s[0])\n",
        "  \n",
        "  "
      ],
      "execution_count": null,
      "outputs": []
    },
    {
      "cell_type": "code",
      "metadata": {
        "id": "EWlrD5NDInaz",
        "outputId": "35aae9ce-82ba-47fb-f8d9-d48cd6e9908c",
        "colab": {
          "base_uri": "https://localhost:8080/",
          "height": 34
        }
      },
      "source": [
        "pig(\"piyush\")"
      ],
      "execution_count": null,
      "outputs": [
        {
          "output_type": "stream",
          "text": [
            "piyush\n"
          ],
          "name": "stdout"
        }
      ]
    },
    {
      "cell_type": "markdown",
      "metadata": {
        "id": "9wBWOwqiA6Wg"
      },
      "source": [
        "Question 5\n",
        "\n",
        "File bloodtype1.txt records blood-types of patients (A, B, AB, O or OO) at a clinic.\n",
        "Write a function bldcount() that reads the file with name name and reports (i.e.,\n",
        "prints) how many patients there are in each bloodtype."
      ]
    },
    {
      "cell_type": "code",
      "metadata": {
        "id": "PmkazrVYtj_I"
      },
      "source": [
        "def bloodcount():\n",
        "    fileptr = open('/content/sample_data/bloodtype1.txt', 'r')\n",
        "    typeList = fileptr.read()\n",
        "    fileptr.close()\n",
        "    bloodType = typeList.split()\n",
        "    var = len(bloodType)\n",
        "    bloodTypeList = ['A', 'B', 'AB', 'O', 'OO']\n",
        "    count = [0 ,0 ,0 ,0 ,0] #blood group list in format [A, B, AB, O, OO]\n",
        "    for i in range(var):\n",
        "        if bloodType[i] == bloodTypeList[0]:\n",
        "            count[0] = count[0] + 1\n",
        "        elif bloodType[i] == bloodTypeList[1]:\n",
        "            count[1] = count[1] + 1\n",
        "        elif bloodType[i] == bloodTypeList[2]:\n",
        "            count[2] = count[2] + 1\n",
        "        elif bloodType[i] == bloodTypeList[3]:\n",
        "            count[3] = count[3] + 1\n",
        "        elif bloodType[i] == bloodTypeList[4]:\n",
        "            count[4] = count[4] + 1\n",
        "        else:\n",
        "            print('Invalid Input\\n')\n",
        "\n",
        "    for i in range(len(bloodTypeList)):\n",
        "        print('There are {} patients of blood type {}.'.format(count[i],bloodTypeList[i]))\n",
        "          "
      ],
      "execution_count": 9,
      "outputs": []
    },
    {
      "cell_type": "code",
      "metadata": {
        "id": "dKbcjvS773RW",
        "outputId": "779251de-2d2e-40ea-88ed-d94f87074a10",
        "colab": {
          "base_uri": "https://localhost:8080/",
          "height": 102
        }
      },
      "source": [
        "bloodcount()"
      ],
      "execution_count": 10,
      "outputs": [
        {
          "output_type": "stream",
          "text": [
            "There are 15 patients of blood type A.\n",
            "There are 1 patients of blood type B.\n",
            "There are 13 patients of blood type AB.\n",
            "There are 15 patients of blood type O.\n",
            "There are 0 patients of blood type OO.\n"
          ],
          "name": "stdout"
        }
      ]
    },
    {
      "cell_type": "markdown",
      "metadata": {
        "id": "ic0x9spkA_Hf"
      },
      "source": [
        "Question 6\n",
        "\n",
        "Write a function curconv() that takes as input:\n",
        "1. a currency represented using a string (e.g., 'JPY' for the Japanese Yen or\n",
        "'EUR' for the Euro)\n",
        "2. an amount\n",
        "and then converts and returns the amount in US dollars."
      ]
    },
    {
      "cell_type": "code",
      "metadata": {
        "id": "vPPKXKrU72SU"
      },
      "source": [
        ""
      ],
      "execution_count": null,
      "outputs": []
    },
    {
      "cell_type": "code",
      "metadata": {
        "id": "ioal4em5BCl4",
        "outputId": "2aa83c1b-9a43-4e45-8e3e-e6fbe845329d",
        "colab": {
          "base_uri": "https://localhost:8080/",
          "height": 408
        }
      },
      "source": [
        "def displayCurrencies():\n",
        "    \n",
        "    fileptr = open('/bin/currencies.txt', 'r') \n",
        "    print('Currencies:')\n",
        "    print('Acronym\\tCurrent Value\\tCurrency Name')\n",
        "    print(fileptr.read())\n",
        "    fileptr.close()\n",
        "\n",
        "def curconv(a,b):\n",
        "    fileptr = open('/bin/currencies.txt', 'r') \n",
        "    listLines = fileptr.readlines() \n",
        "    fileptr.close()\n",
        "    for i in listLines:\n",
        "        if a in i:\n",
        "            currencyLine = i\n",
        "            chosenCur = currencyLine.split()\n",
        "            value = chosenCur[1]\n",
        "            convertedAmount = float(value) * float(b)\n",
        "            return convertedAmount\n",
        "\n",
        "     \n",
        "displayCurrencies()\n",
        "currency = str(input('Enter the currency acronym (ex: AUD): '))\n",
        "print('The currency you chose: {} '.format(currency))\n",
        "amount = input('Enter the amount: ')\n",
        "convertedAmount = curconv(currency,amount)\n",
        "print('Converted Amount is: {}'.format(convertedAmount))"
      ],
      "execution_count": 20,
      "outputs": [
        {
          "output_type": "stream",
          "text": [
            "Currencies:\n",
            "Acronym\tCurrent Value\tCurrency Name\n",
            "AUD\t1.0345157\tAustralian Dollar\n",
            "CHF\t1.0237414\tSwiss Franc\n",
            "CNY\t0.1550176\tChinese Yuan\n",
            "DKK\t0.1651442\tDanish Krone\n",
            "EUR\t1.2296544\tEuro\n",
            "GBP\t1.5550989\tBritish Pound\n",
            "HKD\t0.1270207\tHong Kong Dollar\n",
            "INR\t0.0177643\tIndian Rupee\n",
            "JPY\t0.01241401\tJapanese Yen\n",
            "MXN\t0.0751848\tMexican Peso\n",
            "MYR\t0.3145411\tMalaysian Ringgit\n",
            "NOK\t0.1677063\tNorwegian Krone\n",
            "NZD\t0.8003591\tNew Zealand Dollar\n",
            "PHP\t0.0233234\tPhilippine Peso\n",
            "SEK\t0.148269\tSwedish Krona\n",
            "SGD\t0.788871\tSingapore Dollar\n",
            "THB\t0.0313789\tThai Baht\n",
            "Enter the currency acronym (ex: AUD): AUD\n",
            "The currency you chose: AUD \n",
            "Enter the amount: 100\n",
            "Converted Amount is: 103.45157\n"
          ],
          "name": "stdout"
        }
      ]
    },
    {
      "cell_type": "markdown",
      "metadata": {
        "id": "MbUT7RNkBRCF"
      },
      "source": [
        "Question 7\n",
        "\n",
        "Each of the following will cause an exception (an error). Identify what type of\n",
        "exception each will cause.\n",
        "\n",
        "Trying to add incompatible variables, as in\n",
        "adding 6 + ‘a’\n",
        "\n",
        "Ans : TypeError.\n",
        "\n",
        "Referring to the 12th item of a list that has only 10\n",
        "items\n",
        "\n",
        "Ans: IndexError. This is because the list has only 10 items and the reference to the 12th item does not exist.\n",
        "\n",
        "Using a value that is out of range for a function’s\n",
        "input, such as calling math.sqrt(-1.0)\n",
        "\n",
        "Ans: ValueError.\n",
        "\n",
        "Using an undeclared variable, such as print(x)\n",
        "when x has not been defined \n",
        "\n",
        "Ans: NameError. It is because x is an unassigned identifier.\n",
        "\n",
        "Trying to open a file that does not exist, such as\n",
        "mistyping the file name or looking in the wrong\n",
        "directory. \n",
        "\n",
        "Ans: FileNotFoundError. The error occurs as the file referred does not exist"
      ]
    },
    {
      "cell_type": "markdown",
      "metadata": {
        "id": "43ejhGO9BW8w"
      },
      "source": [
        "Question 8\n",
        "\n",
        "Encryption is the process of hiding the meaning of a text by substituting letters in the\n",
        "message with other letters, according to some system. If the process is successful, no\n",
        "one but the intended recipient can understand the encrypted message. Cryptanalysis\n",
        "refers to attempts to undo the encryption, even if some details of the encryption are\n",
        "unknown (for example, if an encrypted message has been intercepted). The first step\n",
        "of cryptanalysis is often to build up a table of letter frequencies in the encrypted text.\n",
        "Assume that the string letters is already defined as\n",
        "'abcdefghijklmnopqrstuvwxyz'. Write a function called frequencies()\n",
        "that takes a string as its only parameter, and returns a list of integers, showing the\n",
        "number of times each character appears in the text. Your function may ignore any\n",
        "characters that are not in letters. "
      ]
    },
    {
      "cell_type": "code",
      "metadata": {
        "id": "K6Dd7pcRBbA1"
      },
      "source": [
        "def frequencies(str):\n",
        "  word='abcdefghijklmnopqrstuvwxyz'\n",
        "  str1=str.lower()\n",
        "  listword=list(word)\n",
        "  count=[0]*26\n",
        "  for i in str1:\n",
        "        for j in range(len(listword)):\n",
        "            if i == listword[j]:\n",
        "                count[j]+= 1;\n",
        "  print(count)\n",
        "\n",
        "\n",
        "  \n"
      ],
      "execution_count": 38,
      "outputs": []
    },
    {
      "cell_type": "code",
      "metadata": {
        "id": "IlQs8uEWRBq_",
        "outputId": "1623cedc-e9cd-4338-c727-55b7e9ca96af",
        "colab": {
          "base_uri": "https://localhost:8080/",
          "height": 34
        }
      },
      "source": [
        "frequencies('The quick red fox got bored and went home.')"
      ],
      "execution_count": 39,
      "outputs": [
        {
          "output_type": "stream",
          "text": [
            "[1, 1, 1, 3, 5, 1, 1, 2, 1, 0, 1, 0, 1, 2, 4, 0, 1, 2, 0, 3, 1, 0, 1, 1, 0, 0]\n"
          ],
          "name": "stdout"
        }
      ]
    },
    {
      "cell_type": "markdown",
      "metadata": {
        "id": "Ihd26c16Bf2v"
      },
      "source": [
        "Question 9\n",
        "\n",
        "The Sieve of Erastophenes is an algorithm -- known to ancient Greeks -- that finds\n",
        "all prime numbers up to a given number n. It does this by first creating a list L from\n",
        "2 to n and an (initially empty) list primeL. The algorithm then takes the first number\n",
        "in list L (2) and appends it to list primeL, and then removes 2 and all its multiples\n",
        "(4,6,8,10,12, ...) from L. The algorithm then takes the new first number in L (3) and\n",
        "appends it to list primeL, and then removes from L 3 and all its remaining multiples\n",
        "(9,15,21,...). So, in every iteration, the first number of list L is appended to list\n",
        "primeL and then it and its multiples are removed from list L. The iterations stop\n",
        "when list L becomes empty. Write a function sieve() that takes as input a positive\n",
        "integer n, implements the above algorithm, and returns a list of all prime numbers up\n",
        "to n."
      ]
    },
    {
      "cell_type": "code",
      "metadata": {
        "id": "DQBdP162BguS"
      },
      "source": [
        "def seive(n):\n",
        "    multiple=[]\n",
        "    for i in range(2,n+1):\n",
        "        if i not in multiple:\n",
        "            print(i)\n",
        "            for j in range(i*i,n+1,i):\n",
        "                multiple.append(j)\n",
        "  "
      ],
      "execution_count": null,
      "outputs": []
    },
    {
      "cell_type": "code",
      "metadata": {
        "id": "7leIe4og-V7R",
        "outputId": "76a66e6e-263c-4e89-8ce2-b115cc447b89",
        "colab": {
          "base_uri": "https://localhost:8080/",
          "height": 442
        }
      },
      "source": [
        "seive(100)"
      ],
      "execution_count": null,
      "outputs": [
        {
          "output_type": "stream",
          "text": [
            "2\n",
            "3\n",
            "5\n",
            "7\n",
            "11\n",
            "13\n",
            "17\n",
            "19\n",
            "23\n",
            "29\n",
            "31\n",
            "37\n",
            "41\n",
            "43\n",
            "47\n",
            "53\n",
            "59\n",
            "61\n",
            "67\n",
            "71\n",
            "73\n",
            "79\n",
            "83\n",
            "89\n",
            "97\n"
          ],
          "name": "stdout"
        }
      ]
    },
    {
      "cell_type": "markdown",
      "metadata": {
        "id": "z2sW5rFZBjnC"
      },
      "source": [
        "Question 10\n",
        "\n",
        "Implement function triangleArea(a,b,c) that takes as input the lengths of the 3\n",
        "sides of a triangle and returns the area of the triangle. By Heron's formula, the area\n",
        "of a triangle with side lengths a, b, and c is\n",
        "s(s - a)(s -b)(s -c)\n",
        ", where\n",
        "s = (a+b+c)/2. "
      ]
    },
    {
      "cell_type": "code",
      "metadata": {
        "id": "e2nrr9fWBkfA"
      },
      "source": [
        "def triangleArea(a,b,c):\n",
        "  s=(a+b+c)/2\n",
        "  area=s*(s-a)*(s-b)*(s-c)\n",
        "  return math.sqrt(area)"
      ],
      "execution_count": null,
      "outputs": []
    },
    {
      "cell_type": "code",
      "metadata": {
        "id": "l3KMQyCKB_om",
        "outputId": "2e6ff827-c414-4dad-a572-36c46c41e26f",
        "colab": {
          "base_uri": "https://localhost:8080/",
          "height": 34
        }
      },
      "source": [
        "triangleArea(2,2,2)"
      ],
      "execution_count": null,
      "outputs": [
        {
          "output_type": "execute_result",
          "data": {
            "text/plain": [
              "1.7320508075688772"
            ]
          },
          "metadata": {
            "tags": []
          },
          "execution_count": 70
        }
      ]
    },
    {
      "cell_type": "code",
      "metadata": {
        "id": "lbNNfkid6UgI"
      },
      "source": [
        ""
      ],
      "execution_count": null,
      "outputs": []
    }
  ]
}